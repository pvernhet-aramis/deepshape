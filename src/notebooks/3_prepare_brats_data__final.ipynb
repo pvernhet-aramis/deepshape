{
 "cells": [
  {
   "cell_type": "markdown",
   "metadata": {
    "jupyter": {
     "outputs_hidden": true
    }
   },
   "source": [
    "# Data generation notebook : BRATS"
   ]
  },
  {
   "cell_type": "code",
   "execution_count": null,
   "metadata": {},
   "outputs": [],
   "source": [
    "### Base ###\n",
    "import os\n",
    "import numpy as np \n",
    "import torch \n",
    "import torch.nn as nn\n",
    "from torch.optim import Adam\n",
    "import fnmatch\n",
    "from torch.utils.data import TensorDataset, DataLoader\n",
    "import itertools\n",
    "import math\n",
    "from sklearn.decomposition import PCA\n",
    "\n",
    "### Visualization ###\n",
    "#import seaborn as sns\n",
    "#sns.set(color_codes=True)\n",
    "import matplotlib.cm as cm\n",
    "import matplotlib.mlab as mlab\n",
    "import matplotlib.pyplot as plt\n",
    "from matplotlib import rc\n",
    "rc('text', usetex=True)\n",
    "rc('font', **{'family':'serif','serif':['Palatino']})\n",
    "\n",
    "print('Numpy version : ', np.version.version)"
   ]
  },
  {
   "cell_type": "code",
   "execution_count": null,
   "metadata": {},
   "outputs": [],
   "source": [
    "DATA_DIR = '/Users/paul.vernhet/Workroom/Software/Data/MICCAI_dataset'"
   ]
  },
  {
   "cell_type": "code",
   "execution_count": null,
   "metadata": {},
   "outputs": [],
   "source": [
    "### Advanced ##\n",
    "print('Conda environment : ', os.environ['CONDA_DEFAULT_ENV'])\n",
    "from scipy.ndimage import gaussian_filter\n",
    "import PIL.Image as pimg\n",
    "import nibabel as nib\n",
    "from multiprocessing import Pool\n",
    "import itk\n",
    "from scipy import ndimage as nd"
   ]
  },
  {
   "cell_type": "markdown",
   "metadata": {},
   "source": [
    "# 1. Normalize 3D MR images "
   ]
  },
  {
   "cell_type": "code",
   "execution_count": null,
   "metadata": {},
   "outputs": [],
   "source": [
    "args = []\n",
    "\n",
    "path_to_dataset__in = os.path.join(DATA_DIR, '1_brats_2020')\n",
    "path_to_dataset__out = os.path.join(DATA_DIR, '2_t1ce_normalized_ppm')\n",
    "grades = ['HGG', 'LGG']\n",
    "img_type = 't1ce'\n",
    "\n",
    "path_to_file__ref = os.path.join(DATA_DIR, '1_brats_2020/reference/3_colin27_t1_tal_lin_brain.nii')\n",
    "# path_to_file__ref = os.path.join(DATA_DIR, '1_brats_2020/HGG/BraTS19_2013_2_1/BraTS19_2013_2_1_t1ce.nii.gz')\n",
    "\n",
    "if not os.path.isdir(path_to_dataset__out): \n",
    "    os.mkdir(path_to_dataset__out)\n",
    "\n",
    "### TRAIN ###\n",
    "t = ('1_training', 'train') \n",
    "path_to_t = os.path.join(path_to_dataset__out, t[1])\n",
    "if not os.path.exists(path_to_t): \n",
    "    os.makedirs(path_to_t)\n",
    "for grade in grades: \n",
    "    path_to_subjects = os.path.join(path_to_dataset__in, t[0], grade)\n",
    "    subject_ids = [elt for elt in os.listdir(path_to_subjects) if elt[:5] == 'BraTS']\n",
    "    for subject_id in subject_ids:\n",
    "        path_to_file__in = os.path.join(path_to_dataset__in, t[0], grade, subject_id, subject_id + '_%s.nii.gz' % img_type)\n",
    "        path_to_file__out = os.path.join(path_to_dataset__out, t[1], grade.lower() + '_' + subject_id[8:] + '_' + img_type)\n",
    "        args.append((subject_id, path_to_file__in, path_to_file__out + '.nii.gz'))\n",
    "\n",
    "### TEST ###\n",
    "t = ('2_validation', 'test')\n",
    "path_to_t = os.path.join(path_to_dataset__out, t[1])\n",
    "if not os.path.isdir(path_to_t):\n",
    "    os.mkdir(path_to_t)\n",
    "path_to_subjects = os.path.join(path_to_dataset__in, t[0])\n",
    "subject_ids = [elt for elt in os.listdir(path_to_subjects) if elt[:5] == 'BraTS']\n",
    "for subject_id in subject_ids:\n",
    "    path_to_file__in = os.path.join(path_to_dataset__in, t[0], subject_id, subject_id + '_%s.nii.gz' % img_type)\n",
    "    path_to_file__out = os.path.join(path_to_dataset__out, t[1], subject_id[8:] + '_' + img_type)\n",
    "    args.append((subject_id, path_to_file__in, path_to_file__out + '.nii.gz'))\n",
    "\n",
    "### RUN ###\n",
    "PixelType = itk.F\n",
    "ImageType = itk.Image[PixelType, 3]\n",
    "\n",
    "img_ref = itk.imread(path_to_file__ref, PixelType)\n",
    "# img_ref = itk.RescaleIntensityImageFilter(img_ref, ttype=(ImageType, ImageType))\n",
    "# img_ref = itk.cast_image_filter(img_ref)\n",
    "\n",
    "def launch(args):\n",
    "    subject_id, path_in, path_out = args\n",
    "    print(subject_id)\n",
    "    img_in = itk.imread(path_in, PixelType)\n",
    "#     img_in = itk.RescaleIntensityImageFilter(img_in, ttype=(ImageType, ImageType))\n",
    "    img_out = itk.HistogramMatchingImageFilter(img_in, img_ref)\n",
    "    img_out = itk.RescaleIntensityImageFilter(img_out)\n",
    "    itk.imwrite(img_out, path_out)\n",
    "\n",
    "for arg in args: \n",
    "    launch(arg)\n",
    "    \n",
    "# with Pool(os.cpu_count()) as pool:\n",
    "#     pool.map(launch, args)"
   ]
  },
  {
   "cell_type": "markdown",
   "metadata": {},
   "source": [
    "# 2. Extract a slice and stock it in png format"
   ]
  },
  {
   "cell_type": "code",
   "execution_count": null,
   "metadata": {},
   "outputs": [],
   "source": [
    "path_to_dataset = '/Users/alexandre.bone/Workspace/2020_MICCAI/2_datasets/2_t1ce_normalized_colin'\n",
    "t = 'train'\n",
    "filename = 'hgg_2013_2_1_t1ce.nii.gz'\n",
    "\n",
    "# margin_u1 = 45\n",
    "# margin_u2 = 45\n",
    "# margin_v1 = 35\n",
    "# margin_v2 = 20\n",
    "\n",
    "margin_u1 = 35\n",
    "margin_u2 = 35\n",
    "margin_v1 = 25\n",
    "margin_v2 = 10\n",
    "\n",
    "# img_size = (64, 64)\n",
    "img_size = (128, 128)\n",
    "\n",
    "def reshape(image_data):\n",
    "    dsfactor = [w / float(f) for w, f in zip(img_size, image_data.shape)]\n",
    "    return nd.interpolation.zoom(image_data, zoom=dsfactor, order=1)\n",
    "\n",
    "path_to_file = os.path.join(path_to_dataset, t, filename)\n",
    "img = nib.load(path_to_file).get_data()\n",
    "img = np.transpose(img[margin_u1:-margin_u2, margin_v1:-margin_v2, 80][::-1, ::-1])\n",
    "print(img.shape)\n",
    "img = reshape(img)\n",
    "print(img.shape)\n",
    "\n",
    "figsize = 5\n",
    "f = plt.figure(figsize=(figsize, figsize))\n",
    "plt.imshow(img, cmap='gray')\n",
    "plt.axis('off')\n",
    "plt.show()\n",
    "\n",
    "# plt.hist(img.reshape(-1, 1))\n",
    "# plt.show()"
   ]
  },
  {
   "cell_type": "code",
   "execution_count": null,
   "metadata": {},
   "outputs": [],
   "source": [
    "path_to_dataset__in = '/Users/alexandre.bone/Workspace/2020_MICCAI/2_datasets/2_t1ce_normalized_colin'\n",
    "path_to_dataset__out = '/Users/alexandre.bone/Workspace/2020_MICCAI/2_datasets/7_t1ce_normalized_colin_slice80'\n",
    "\n",
    "slice_id = 80\n",
    "# margin_u1 = 45\n",
    "# margin_u2 = 45\n",
    "# margin_v1 = 35\n",
    "# margin_v2 = 20\n",
    "\n",
    "margin_u1 = 35\n",
    "margin_u2 = 35\n",
    "margin_v1 = 25\n",
    "margin_v2 = 10\n",
    "\n",
    "img_size = (128, 128)\n",
    "\n",
    "if not os.path.isdir(path_to_dataset__out): \n",
    "    os.mkdir(path_to_dataset__out)\n",
    "\n",
    "img_average = img * 0.0\n",
    "for t in ['train', 'test']: \n",
    "    path_to_t__in = os.path.join(path_to_dataset__in, t)\n",
    "    path_to_t__out = os.path.join(path_to_dataset__out, t)\n",
    "    if not os.path.isdir(path_to_t__out): \n",
    "        os.mkdir(path_to_t__out)\n",
    "\n",
    "    filenames = [elt for elt in os.listdir(path_to_t__in) if '.nii.gz' in elt]\n",
    "    for k, filename in enumerate(filenames):\n",
    "        path_to_file__in = os.path.join(path_to_t__in, filename)\n",
    "        path_to_file__out = os.path.join(path_to_t__out, ('%03d_' % k) + filename)\n",
    "\n",
    "        img = nib.load(path_to_file__in).get_data()\n",
    "        img = np.transpose(img[margin_u1:-margin_u2, margin_v1:-margin_v2, slice_id][::-1, ::-1])\n",
    "        img = reshape(img)\n",
    "\n",
    "        if t == 'train': \n",
    "            img_average += img / float(len(filenames))\n",
    "        \n",
    "        pimg.fromarray(img).save(path_to_file__out[:-7] + '.png')\n",
    "        \n",
    "tol = 1e-10\n",
    "img_average = np.clip(img_average, tol, 255.0 - tol).astype('uint8')\n",
    "pimg.fromarray(img_average).save(os.path.join(path_to_dataset__out, 'average.png'))"
   ]
  },
  {
   "cell_type": "code",
   "execution_count": null,
   "metadata": {},
   "outputs": [],
   "source": []
  },
  {
   "cell_type": "code",
   "execution_count": null,
   "metadata": {},
   "outputs": [],
   "source": [
    "path_to_file = '/Users/alexandre.bone/Softwares/deepshape/examples/brains/data_128/cn/s0074.npy'\n",
    "img = np.load(path_to_file)\n",
    "\n",
    "img = img[:, :, 60]\n",
    "plt.imshow(img)\n",
    "plt.show()"
   ]
  },
  {
   "cell_type": "code",
   "execution_count": null,
   "metadata": {},
   "outputs": [],
   "source": [
    "img.shape"
   ]
  },
  {
   "cell_type": "code",
   "execution_count": null,
   "metadata": {},
   "outputs": [],
   "source": []
  }
 ],
 "metadata": {
  "kernelspec": {
   "display_name": "Python 3",
   "language": "python",
   "name": "python3"
  },
  "language_info": {
   "codemirror_mode": {
    "name": "ipython",
    "version": 3
   },
   "file_extension": ".py",
   "mimetype": "text/x-python",
   "name": "python",
   "nbconvert_exporter": "python",
   "pygments_lexer": "ipython3",
   "version": "3.7.4"
  }
 },
 "nbformat": 4,
 "nbformat_minor": 4
}
