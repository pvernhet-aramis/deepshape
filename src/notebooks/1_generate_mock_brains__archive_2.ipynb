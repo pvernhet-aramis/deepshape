{
 "cells": [
  {
   "cell_type": "code",
   "execution_count": 1,
   "metadata": {
    "collapsed": true
   },
   "outputs": [],
   "source": [
    "### Base ###\n",
    "import os\n",
    "import numpy as np \n",
    "import torch \n",
    "import torch.nn as nn\n",
    "from torch.optim import Adam\n",
    "import fnmatch\n",
    "from torch.utils.data import TensorDataset, DataLoader\n",
    "import itertools\n",
    "import math\n",
    "from sklearn.decomposition import PCA\n",
    "from scipy.ndimage import gaussian_filter\n",
    "import PIL.Image as pimg\n",
    "\n",
    "### Visualization ###\n",
    "#import seaborn as sns\n",
    "#sns.set(color_codes=True)\n",
    "import matplotlib.cm as cm\n",
    "import matplotlib.mlab as mlab\n",
    "import matplotlib.pyplot as plt\n",
    "from matplotlib import rc\n",
    "rc('text', usetex=True)\n",
    "rc('font', **{'family':'serif','serif':['Palatino']})"
   ]
  },
  {
   "cell_type": "code",
   "execution_count": 2,
   "metadata": {},
   "outputs": [
    {
     "name": "stdout",
     "output_type": "stream",
     "text": [
      "40.36492651796569 40.36492651796569\n"
     ]
    },
    {
     "data": {
      "image/png": "[encoded data removed]",
      "text/plain": [
       "<matplotlib.figure.Figure at 0x1a16958fd0>"
      ]
     },
     "metadata": {},
     "output_type": "display_data"
    }
   ],
   "source": [
    "img_size = 64\n",
    "\n",
    "dx = 0.7\n",
    "dy = 1.3\n",
    "# dx = 1.\n",
    "# dy = 1.\n",
    "\n",
    "brain_r = 30\n",
    "tumour_r = 15\n",
    "\n",
    "tumour_pr = 20.\n",
    "# for t in [0.0, 0.25, 0.5, 0.75, 1., 1.25, 1.5, 1.75, 2.0]:\n",
    "tumour_pt = 0.66 * math.pi\n",
    "\n",
    "tumour_x = 50. + tumour_pr * math.cos(tumour_pt)\n",
    "tumour_y = 50. + tumour_pr * math.sin(tumour_pt)\n",
    "print(tumour_x, tumour_x)\n",
    "\n",
    "tumour_c = 0.\n",
    "\n",
    "sigma = 1.0\n",
    "\n",
    "img = np.zeros((img_size, img_size))\n",
    "coordinates_x, coordinates_y = np.meshgrid(np.arange(1, img_size + 1), np.arange(1, img_size + 1))\n",
    "\n",
    "center = (img_size + 1.) / 2.0\n",
    "img[((coordinates_x - center) ** 2) / (brain_r / dx * img_size / 100.) ** 2 + ((coordinates_y - center) ** 2) / (brain_r / dy * img_size / 100.) ** 2 <= 1.] = 1.0\n",
    "img[((coordinates_x - tumour_x * img_size / 100.) ** 2) / (tumour_r / dx * img_size / 100.) ** 2 + ((coordinates_y - tumour_y * img_size / 100.) ** 2) / (tumour_r / dy * img_size / 100.) ** 2 <= 1.] = tumour_c\n",
    "img = gaussian_filter(img, sigma * img_size / 100.)\n",
    "\n",
    "figsize = 7\n",
    "f = plt.figure(figsize=(figsize, figsize))\n",
    "plt.imshow(img, cmap='gray')\n",
    "# plt.scatter(center, center)\n",
    "plt.show()"
   ]
  },
  {
   "cell_type": "code",
   "execution_count": 3,
   "metadata": {},
   "outputs": [
    {
     "data": {
      "text/plain": [
       "(array([0.75, 0.8 , 0.85, 0.9 , 0.95, 1.  , 1.05, 1.1 , 1.15, 1.2 , 1.25]),\n",
       " array([0.725, 0.775, 0.825, 0.875, 0.925, 0.975, 1.025, 1.075, 1.125,\n",
       "        1.175, 1.225, 1.275]))"
      ]
     },
     "execution_count": 3,
     "metadata": {},
     "output_type": "execute_result"
    }
   ],
   "source": [
    "np.linspace(0.75, 1.25, 11, endpoint=True), np.linspace(0.725, 1.275, 12, endpoint=True)"
   ]
  },
  {
   "cell_type": "code",
   "execution_count": 4,
   "metadata": {},
   "outputs": [
    {
     "data": {
      "text/plain": [
       "(array([0.75, 0.85, 0.95, 1.05, 1.15, 1.25]),\n",
       " array([0.7, 0.8, 0.9, 1. , 1.1, 1.2, 1.3]))"
      ]
     },
     "execution_count": 4,
     "metadata": {},
     "output_type": "execute_result"
    }
   ],
   "source": [
    "np.linspace(0.75, 1.25, 6, endpoint=True), np.linspace(0.7, 1.3, 7, endpoint=True)"
   ]
  },
  {
   "cell_type": "code",
   "execution_count": 5,
   "metadata": {},
   "outputs": [
    {
     "data": {
      "text/plain": [
       "(array([0.05, 0.15, 0.25, 0.35, 0.45, 0.55, 0.65, 0.75, 0.85, 0.95]),\n",
       " array([0. , 0.1, 0.2, 0.3, 0.4, 0.5, 0.6, 0.7, 0.8, 0.9]))"
      ]
     },
     "execution_count": 5,
     "metadata": {},
     "output_type": "execute_result"
    }
   ],
   "source": [
    "np.linspace(0.05, 0.95, 10, endpoint=True), np.linspace(0., 1., 10, endpoint=False)"
   ]
  },
  {
   "cell_type": "code",
   "execution_count": 12,
   "metadata": {},
   "outputs": [
    {
     "data": {
      "text/plain": [
       "(array([0.        , 0.16666667, 0.33333333, 0.5       , 0.66666667,\n",
       "        0.83333333]),\n",
       " array([0.08333333, 0.25      , 0.41666667, 0.58333333, 0.75      ,\n",
       "        0.91666667]))"
      ]
     },
     "execution_count": 12,
     "metadata": {},
     "output_type": "execute_result"
    }
   ],
   "source": [
    "np.linspace(0.0, 1.0, 6, endpoint=False), np.linspace(1./12., 1.+1./12., 6, endpoint=False)"
   ]
  },
  {
   "cell_type": "code",
   "execution_count": 6,
   "metadata": {},
   "outputs": [
    {
     "data": {
      "image/png": "[encoded data removed]",
      "text/plain": [
       "<matplotlib.figure.Figure at 0x1a1a7879b0>"
      ]
     },
     "metadata": {},
     "output_type": "display_data"
    }
   ],
   "source": [
    "# Generate data\n",
    "\n",
    "# TRAIN\n",
    "path_to_folder = '/Users/alexandre.bone/Softwares/deepshape/examples/eyes/data/train_NEWW'\n",
    "\n",
    "if not os.path.isdir(path_to_folder):\n",
    "    os.mkdir(path_to_folder)\n",
    "\n",
    "img_size = 64\n",
    "center = (img_size + 1.) / 2.0\n",
    "    \n",
    "average = np.zeros((img_size, img_size))\n",
    "\n",
    "k = 0\n",
    "for dx in np.linspace(0.75, 1.25, 6, endpoint=True): \n",
    "    for dy in np.linspace(0.75, 1.25, 6, endpoint=True): \n",
    "        for pt in np.linspace(0.05, 0.95, 10, endpoint=True): \n",
    "\n",
    "            brain_r = 30\n",
    "            tumour_r = 15\n",
    "\n",
    "            tumour_pr = 25.\n",
    "            tumour_pt = pt * 2. * math.pi\n",
    "\n",
    "            tumour_x = 50. + tumour_pr * math.cos(tumour_pt)\n",
    "            tumour_y = 50. + tumour_pr * math.sin(tumour_pt)\n",
    "\n",
    "            tumour_c = 0.\n",
    "\n",
    "            sigma = 1.0\n",
    "\n",
    "            img = np.zeros((img_size, img_size))\n",
    "            coordinates_x, coordinates_y = np.meshgrid(np.arange(1, img_size + 1), np.arange(1, img_size + 1))\n",
    "\n",
    "            center = (img_size + 1.) / 2.0\n",
    "            img[((coordinates_x - center) ** 2) / (brain_r / dx * img_size / 100.) ** 2 + ((coordinates_y - center) ** 2) / (brain_r / dy * img_size / 100.) ** 2 <= 1.] = 1.0\n",
    "            img[((coordinates_x - tumour_x * img_size / 100.) ** 2) / (tumour_r / dx * img_size / 100.) ** 2 + ((coordinates_y - tumour_y * img_size / 100.) ** 2) / (tumour_r / dy * img_size / 100.) ** 2 <= 1.] = tumour_c\n",
    "            img = gaussian_filter(img, sigma * img_size / 100.)\n",
    "\n",
    "            tol = 1e-10\n",
    "            img = (np.clip(img, tol, 1.0 - tol) * 255).astype('uint8')\n",
    "            pimg.fromarray(img).save(os.path.join(path_to_folder, 'eye__%d.png' % k))\n",
    "\n",
    "            average += img\n",
    "            k += 1\n",
    "average /= float(k)\n",
    "\n",
    "figsize = 7\n",
    "f = plt.figure(figsize=(figsize, figsize))\n",
    "plt.imshow(average, cmap='gray')\n",
    "plt.show()"
   ]
  },
  {
   "cell_type": "code",
   "execution_count": 7,
   "metadata": {},
   "outputs": [
    {
     "data": {
      "image/png": "[encoded data removed]",
      "text/plain": [
       "<matplotlib.figure.Figure at 0x1a1a9f3438>"
      ]
     },
     "metadata": {},
     "output_type": "display_data"
    }
   ],
   "source": [
    "# Generate data\n",
    "\n",
    "# TEST\n",
    "path_to_folder = '/Users/alexandre.bone/Softwares/deepshape/examples/eyes/data/test_NEWW'\n",
    "\n",
    "if not os.path.isdir(path_to_folder):\n",
    "    os.mkdir(path_to_folder)\n",
    "\n",
    "img_size = 64\n",
    "center = (img_size + 1.) / 2.0\n",
    "    \n",
    "average = np.zeros((img_size, img_size))\n",
    "\n",
    "k = 0\n",
    "for dx in np.linspace(0.7, 1.3, 7, endpoint=True): \n",
    "    for dy in np.linspace(0.7, 1.3, 7, endpoint=True): \n",
    "        for pt in np.linspace(0., 1., 10, endpoint=False): \n",
    "\n",
    "            brain_r = 30\n",
    "            tumour_r = 15\n",
    "\n",
    "            tumour_pr = 25.\n",
    "            tumour_pt = pt * 2. * math.pi\n",
    "\n",
    "            tumour_x = 50. + tumour_pr * math.cos(tumour_pt)\n",
    "            tumour_y = 50. + tumour_pr * math.sin(tumour_pt)\n",
    "\n",
    "            tumour_c = 0.\n",
    "\n",
    "            sigma = 1.0\n",
    "\n",
    "            img = np.zeros((img_size, img_size))\n",
    "            coordinates_x, coordinates_y = np.meshgrid(np.arange(1, img_size + 1), np.arange(1, img_size + 1))\n",
    "\n",
    "            center = (img_size + 1.) / 2.0\n",
    "            img[((coordinates_x - center) ** 2) / (brain_r / dx * img_size / 100.) ** 2 + ((coordinates_y - center) ** 2) / (brain_r / dy * img_size / 100.) ** 2 <= 1.] = 1.0\n",
    "            img[((coordinates_x - tumour_x * img_size / 100.) ** 2) / (tumour_r / dx * img_size / 100.) ** 2 + ((coordinates_y - tumour_y * img_size / 100.) ** 2) / (tumour_r / dy * img_size / 100.) ** 2 <= 1.] = tumour_c\n",
    "            img = gaussian_filter(img, sigma * img_size / 100.)\n",
    "\n",
    "            tol = 1e-10\n",
    "            img = (np.clip(img, tol, 1.0 - tol) * 255).astype('uint8')\n",
    "            pimg.fromarray(img).save(os.path.join(path_to_folder, 'eye__%d.png' % k))\n",
    "\n",
    "            average += img\n",
    "            k += 1\n",
    "average /= float(k)\n",
    "\n",
    "figsize = 7\n",
    "f = plt.figure(figsize=(figsize, figsize))\n",
    "plt.imshow(average, cmap='gray')\n",
    "plt.show()"
   ]
  },
  {
   "cell_type": "code",
   "execution_count": null,
   "metadata": {
    "collapsed": true
   },
   "outputs": [],
   "source": []
  },
  {
   "cell_type": "code",
   "execution_count": null,
   "metadata": {
    "collapsed": true
   },
   "outputs": [],
   "source": []
  },
  {
   "cell_type": "code",
   "execution_count": null,
   "metadata": {
    "collapsed": true
   },
   "outputs": [],
   "source": []
  }
 ],
 "metadata": {
  "kernelspec": {
   "display_name": "Python 3",
   "language": "python",
   "name": "python3"
  },
  "language_info": {
   "codemirror_mode": {
    "name": "ipython",
    "version": 3
   },
   "file_extension": ".py",
   "mimetype": "text/x-python",
   "name": "python",
   "nbconvert_exporter": "python",
   "pygments_lexer": "ipython3",
   "version": "3.6.8"
  }
 },
 "nbformat": 4,
 "nbformat_minor": 2
}
