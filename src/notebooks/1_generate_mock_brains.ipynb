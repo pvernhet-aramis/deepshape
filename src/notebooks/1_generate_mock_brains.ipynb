{
 "cells": [
  {
   "cell_type": "markdown",
   "metadata": {
    "jupyter": {
     "outputs_hidden": true
    }
   },
   "source": [
    "# Dataset generation notebook : Mock brains"
   ]
  },
  {
   "cell_type": "code",
   "execution_count": 1,
   "metadata": {},
   "outputs": [],
   "source": [
    "### Base ###\n",
    "import os\n",
    "import numpy as np \n",
    "import torch \n",
    "import torch.nn as nn\n",
    "from torch.optim import Adam\n",
    "import fnmatch\n",
    "from torch.utils.data import TensorDataset, DataLoader\n",
    "import itertools\n",
    "import math\n",
    "from sklearn.decomposition import PCA\n",
    "from scipy.ndimage import gaussian_filter\n",
    "import PIL.Image as pimg\n",
    "\n",
    "### Visualization ###\n",
    "#import seaborn as sns\n",
    "#sns.set(color_codes=True)\n",
    "import matplotlib.cm as cm\n",
    "import matplotlib.mlab as mlab\n",
    "import matplotlib.pyplot as plt\n",
    "from matplotlib import rc\n",
    "rc('text', usetex=True)\n",
    "rc('font', **{'family':'serif','serif':['Palatino']})"
   ]
  },
  {
   "cell_type": "code",
   "execution_count": 2,
   "metadata": {},
   "outputs": [],
   "source": [
    "DATA_DIR = '/Users/paul.vernhet/Workroom/Software/Data/MICCAI_dataset'"
   ]
  },
  {
   "cell_type": "markdown",
   "metadata": {},
   "source": [
    "Show example of data:"
   ]
  },
  {
   "cell_type": "code",
   "execution_count": 3,
   "metadata": {},
   "outputs": [
    {
     "name": "stderr",
     "output_type": "stream",
     "text": [
      "/Users/paul.vernhet/anaconda3/envs/fullaramis/lib/python3.7/site-packages/matplotlib/font_manager.py:1328: UserWarning: findfont: Font family ['serif'] not found. Falling back to DejaVu Sans\n",
      "  (prop.get_family(), self.defaultFamily[fontext]))\n",
      "/Users/paul.vernhet/anaconda3/envs/fullaramis/lib/python3.7/site-packages/matplotlib/font_manager.py:1328: UserWarning: findfont: Font family ['serif'] not found. Falling back to DejaVu Sans\n",
      "  (prop.get_family(), self.defaultFamily[fontext]))\n"
     ]
    },
    {
     "data": {
      "image/png": "[encoded data removed]",
      "text/plain": [
       "<Figure size 504x504 with 1 Axes>"
      ]
     },
     "metadata": {
      "needs_background": "light"
     },
     "output_type": "display_data"
    }
   ],
   "source": [
    "img_size = 32\n",
    "\n",
    "dx = 0.7\n",
    "dy = 1.3\n",
    "# dx = 1.\n",
    "# dy = 1.\n",
    "\n",
    "brain_r = 30\n",
    "\n",
    "tumour_outer_c = 0.25\n",
    "tumour_outer_r = 18\n",
    "\n",
    "tumour_inner_c = 0.75\n",
    "tumour_inner_r = 9.\n",
    "\n",
    "sigma = 2.0\n",
    "\n",
    "img = np.zeros((img_size, img_size))\n",
    "coordinates_x, coordinates_y = np.meshgrid(np.arange(1, img_size + 1), np.arange(1, img_size + 1))\n",
    "\n",
    "center = (img_size + 1.) / 2.0\n",
    "img[((coordinates_x - center) ** 2) / (brain_r / dx * img_size / 100.) ** 2 + ((coordinates_y - center) ** 2) / (brain_r / dy * img_size / 100.) ** 2 <= 1.] = 0.5\n",
    "img[((coordinates_x - 0.5 * (1 + img_size)) ** 2) / (tumour_outer_r / dx * img_size / 100.) ** 2 + ((coordinates_y - 0.5 * (1 + img_size)) ** 2) / (tumour_outer_r / dy * img_size / 100.) ** 2 <= 1.] = tumour_outer_c\n",
    "img[((coordinates_x - 0.5 * (1 + img_size)) ** 2) / (tumour_inner_r / dx * img_size / 100.) ** 2 + ((coordinates_y - 0.5 * (1 + img_size)) ** 2) / (tumour_inner_r / dy * img_size / 100.) ** 2 <= 1.] = tumour_inner_c\n",
    "img = gaussian_filter(img, sigma * img_size / 100.)\n",
    "\n",
    "figsize = 7\n",
    "f = plt.figure(figsize=(figsize, figsize))\n",
    "plt.imshow(img, cmap='gray')\n",
    "# plt.scatter(center, center)\n",
    "plt.show()"
   ]
  },
  {
   "cell_type": "markdown",
   "metadata": {},
   "source": [
    "Data generation : training and validation datasets"
   ]
  },
  {
   "cell_type": "code",
   "execution_count": 5,
   "metadata": {},
   "outputs": [
    {
     "data": {
      "image/png": "[encoded data removed]",
      "text/plain": [
       "<Figure size 504x504 with 1 Axes>"
      ]
     },
     "metadata": {
      "needs_background": "light"
     },
     "output_type": "display_data"
    }
   ],
   "source": [
    "# Generate data\n",
    "\n",
    "# TRAIN\n",
    "path_to_folder = os.path.join(DATA_DIR, 'eyes/data_final_4/train')\n",
    "\n",
    "if not os.path.exists(path_to_folder):\n",
    "    os.makedirs(path_to_folder)\n",
    "\n",
    "img_size = 32\n",
    "center = (img_size + 1.) / 2.0\n",
    "    \n",
    "average = np.zeros((img_size, img_size))\n",
    "\n",
    "k = 0\n",
    "for dx in np.linspace(0.775, 1.225, 10, endpoint=True): \n",
    "    for dy in np.linspace(0.775, 1.225, 10, endpoint=True): \n",
    "        for oc in np.linspace(0.05, 0.95, 10, endpoint=True): \n",
    "            for ic in np.linspace(0.05, 0.95, 10, endpoint=True):\n",
    "\n",
    "                brain_r = 30\n",
    "                \n",
    "                tumour_outer_c = oc\n",
    "                tumour_outer_r = 18\n",
    "\n",
    "                tumour_inner_c = ic\n",
    "                tumour_inner_r = 9.\n",
    "\n",
    "                sigma = 2.0\n",
    "\n",
    "                img = np.zeros((img_size, img_size))\n",
    "                coordinates_x, coordinates_y = np.meshgrid(np.arange(1, img_size + 1), np.arange(1, img_size + 1))\n",
    "\n",
    "                center = (img_size + 1.) / 2.0\n",
    "                img[((coordinates_x - center) ** 2) / (brain_r / dx * img_size / 100.) ** 2 + ((coordinates_y - center) ** 2) / (brain_r / dy * img_size / 100.) ** 2 <= 1.] = 0.5\n",
    "                img[((coordinates_x - 0.5 * (1 + img_size)) ** 2) / (tumour_outer_r / dx * img_size / 100.) ** 2 + ((coordinates_y - 0.5 * (1 + img_size)) ** 2) / (tumour_outer_r / dy * img_size / 100.) ** 2 <= 1.] = tumour_outer_c\n",
    "                img[((coordinates_x - 0.5 * (1 + img_size)) ** 2) / (tumour_inner_r / dx * img_size / 100.) ** 2 + ((coordinates_y - 0.5 * (1 + img_size)) ** 2) / (tumour_inner_r / dy * img_size / 100.) ** 2 <= 1.] = tumour_inner_c\n",
    "                img = gaussian_filter(img, sigma * img_size / 100.)\n",
    "\n",
    "                tol = 1e-10\n",
    "                img = (np.clip(img, tol, 1.0 - tol) * 255).astype('uint8')\n",
    "                pimg.fromarray(img).save(os.path.join(path_to_folder, 'eye__%d.png' % k))\n",
    "\n",
    "                average += img\n",
    "                k += 1\n",
    "average /= float(k)\n",
    "\n",
    "figsize = 7\n",
    "f = plt.figure(figsize=(figsize, figsize))\n",
    "plt.imshow(average, cmap='gray', vmin=0, vmax=255)\n",
    "plt.show()"
   ]
  },
  {
   "cell_type": "code",
   "execution_count": 6,
   "metadata": {},
   "outputs": [
    {
     "data": {
      "image/png": "[encoded data removed]",
      "text/plain": [
       "<Figure size 504x504 with 1 Axes>"
      ]
     },
     "metadata": {
      "needs_background": "light"
     },
     "output_type": "display_data"
    }
   ],
   "source": [
    "# Generate data\n",
    "\n",
    "# TEST\n",
    "path_to_folder = os.path.join(DATA_DIR, 'eyes/data_final_4/test')\n",
    "\n",
    "if not os.path.exists(path_to_folder):\n",
    "    os.makedirs(path_to_folder)\n",
    "\n",
    "img_size = 32\n",
    "center = (img_size + 1.) / 2.0\n",
    "    \n",
    "average = np.zeros((img_size, img_size))\n",
    "\n",
    "k = 0\n",
    "for dx in np.linspace(0.75, 1.25, 11, endpoint=True): \n",
    "    for dy in np.linspace(0.75, 1.25, 11, endpoint=True): \n",
    "        for oc in np.linspace(0., 1., 11, endpoint=True): \n",
    "            for ic in np.linspace(0., 1., 11, endpoint=True):\n",
    "\n",
    "                brain_r = 30\n",
    "                \n",
    "                tumour_outer_c = oc\n",
    "                tumour_outer_r = 18\n",
    "\n",
    "                tumour_inner_c = ic\n",
    "                tumour_inner_r = 9.\n",
    "\n",
    "                sigma = 2.0\n",
    "\n",
    "                img = np.zeros((img_size, img_size))\n",
    "                coordinates_x, coordinates_y = np.meshgrid(np.arange(1, img_size + 1), np.arange(1, img_size + 1))\n",
    "\n",
    "                center = (img_size + 1.) / 2.0\n",
    "                img[((coordinates_x - center) ** 2) / (brain_r / dx * img_size / 100.) ** 2 + ((coordinates_y - center) ** 2) / (brain_r / dy * img_size / 100.) ** 2 <= 1.] = 0.5\n",
    "                img[((coordinates_x - 0.5 * (1 + img_size)) ** 2) / (tumour_outer_r / dx * img_size / 100.) ** 2 + ((coordinates_y - 0.5 * (1 + img_size)) ** 2) / (tumour_outer_r / dy * img_size / 100.) ** 2 <= 1.] = tumour_outer_c\n",
    "                img[((coordinates_x - 0.5 * (1 + img_size)) ** 2) / (tumour_inner_r / dx * img_size / 100.) ** 2 + ((coordinates_y - 0.5 * (1 + img_size)) ** 2) / (tumour_inner_r / dy * img_size / 100.) ** 2 <= 1.] = tumour_inner_c\n",
    "                img = gaussian_filter(img, sigma * img_size / 100.)\n",
    "\n",
    "                tol = 1e-10\n",
    "                img = (np.clip(img, tol, 1.0 - tol) * 255).astype('uint8')\n",
    "                pimg.fromarray(img).save(os.path.join(path_to_folder, 'eye__%d.png' % k))\n",
    "\n",
    "                average += img\n",
    "                k += 1\n",
    "average /= float(k)\n",
    "\n",
    "figsize = 7\n",
    "f = plt.figure(figsize=(figsize, figsize))\n",
    "plt.imshow(average, cmap='gray', vmin=0, vmax=255)\n",
    "plt.show()"
   ]
  },
  {
   "cell_type": "code",
   "execution_count": null,
   "metadata": {},
   "outputs": [],
   "source": []
  }
 ],
 "metadata": {
  "kernelspec": {
   "display_name": "Python 3",
   "language": "python",
   "name": "python3"
  },
  "language_info": {
   "codemirror_mode": {
    "name": "ipython",
    "version": 3
   },
   "file_extension": ".py",
   "mimetype": "text/x-python",
   "name": "python",
   "nbconvert_exporter": "python",
   "pygments_lexer": "ipython3",
   "version": "3.7.4"
  }
 },
 "nbformat": 4,
 "nbformat_minor": 4
}
