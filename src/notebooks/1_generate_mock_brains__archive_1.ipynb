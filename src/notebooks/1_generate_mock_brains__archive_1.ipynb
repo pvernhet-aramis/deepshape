{
 "cells": [
  {
   "cell_type": "code",
   "execution_count": 1,
   "metadata": {
    "collapsed": true
   },
   "outputs": [],
   "source": [
    "### Base ###\n",
    "import os\n",
    "import numpy as np \n",
    "import torch \n",
    "import torch.nn as nn\n",
    "from torch.optim import Adam\n",
    "import fnmatch\n",
    "from torch.utils.data import TensorDataset, DataLoader\n",
    "import itertools\n",
    "import math\n",
    "from sklearn.decomposition import PCA\n",
    "from scipy.ndimage import gaussian_filter\n",
    "import PIL.Image as pimg\n",
    "\n",
    "### Visualization ###\n",
    "#import seaborn as sns\n",
    "#sns.set(color_codes=True)\n",
    "import matplotlib.cm as cm\n",
    "import matplotlib.mlab as mlab\n",
    "import matplotlib.pyplot as plt\n",
    "from matplotlib import rc\n",
    "rc('text', usetex=True)\n",
    "rc('font', **{'family':'serif','serif':['Palatino']})"
   ]
  },
  {
   "cell_type": "code",
   "execution_count": 2,
   "metadata": {},
   "outputs": [
    {
     "data": {
      "image/png": "[encoded data removed]",
      "text/plain": [
       "<matplotlib.figure.Figure at 0x1a1c975f28>"
      ]
     },
     "metadata": {},
     "output_type": "display_data"
    }
   ],
   "source": [
    "img_size = 64\n",
    "\n",
    "ellipse_a = 50\n",
    "ellipse_b = 50\n",
    "\n",
    "tumour_x = 25\n",
    "tumour_y = 25\n",
    "tumour_r = 15\n",
    "\n",
    "sigma = 2.5\n",
    "\n",
    "img = np.zeros((img_size, img_size))\n",
    "coordinates_x, coordinates_y = np.meshgrid(np.arange(1, img_size + 1), np.arange(1, img_size + 1))\n",
    "center = (img_size + 1.) / 2.0\n",
    "img[((coordinates_x - center) ** 2) / (ellipse_a * img_size / 100.) ** 2 + ((coordinates_y - center) ** 2) / (ellipse_b * img_size / 100.) ** 2 <= 1.] = 1.0\n",
    "img[((coordinates_x - tumour_x * img_size / 100.) ** 2) / (tumour_r * img_size / 100.) ** 2 + ((coordinates_y - tumour_y * img_size / 100.) ** 2) / (tumour_r * img_size / 100.) ** 2 <= 1.] = 0.5\n",
    "img = gaussian_filter(img, sigma * img_size / 100.)\n",
    "\n",
    "figsize = 7\n",
    "f = plt.figure(figsize=(figsize, figsize))\n",
    "plt.imshow(img, cmap='gray')\n",
    "plt.show()"
   ]
  },
  {
   "cell_type": "code",
   "execution_count": 3,
   "metadata": {},
   "outputs": [
    {
     "data": {
      "image/png": "[encoded data removed]",
      "text/plain": [
       "<matplotlib.figure.Figure at 0x1a1c9716a0>"
      ]
     },
     "metadata": {},
     "output_type": "display_data"
    }
   ],
   "source": [
    "img_size = 64\n",
    "center = (img_size + 1.) / 2.0\n",
    "\n",
    "ellipse_a = np.random.uniform(20, 45)\n",
    "ellipse_b = np.random.uniform(20, 45)\n",
    "\n",
    "tumour_r = 15\n",
    "tumour_x = 0\n",
    "tumour_y = 0\n",
    "while (tumour_x * img_size / 100. - center) ** 2 / (ellipse_a * img_size / 100.) ** 2 + (tumour_y * img_size / 100. - center) ** 2 / (ellipse_b * img_size / 100.) ** 2 > 1.:\n",
    "    tumour_x = np.random.uniform(tumour_r, 100 - tumour_r)\n",
    "    tumour_y = np.random.uniform(tumour_r, 100 - tumour_r)\n",
    "\n",
    "sigma = 2.5\n",
    "\n",
    "img = np.zeros((img_size, img_size))\n",
    "coordinates_x, coordinates_y = np.meshgrid(np.arange(1, img_size + 1), np.arange(1, img_size + 1))\n",
    "img[((coordinates_x - center) ** 2) / (ellipse_a * img_size / 100.) ** 2 + ((coordinates_y - center) ** 2) / (ellipse_b * img_size / 100.) ** 2 <= 1.] = 1.0\n",
    "img[((coordinates_x - tumour_x * img_size / 100.) ** 2) / (tumour_r * img_size / 100.) ** 2 + ((coordinates_y - tumour_y * img_size / 100.) ** 2) / (tumour_r * img_size / 100.) ** 2 <= 1.] = 0.5\n",
    "img = gaussian_filter(img, sigma * img_size / 100.)\n",
    "\n",
    "figsize = 7\n",
    "f = plt.figure(figsize=(figsize, figsize))\n",
    "plt.imshow(img, cmap='gray')\n",
    "plt.show()"
   ]
  },
  {
   "cell_type": "code",
   "execution_count": 5,
   "metadata": {},
   "outputs": [
    {
     "data": {
      "image/png": "[encoded data removed]",
      "text/plain": [
       "<matplotlib.figure.Figure at 0x1a20ad8780>"
      ]
     },
     "metadata": {},
     "output_type": "display_data"
    }
   ],
   "source": [
    "# Generate data\n",
    "\n",
    "nb = 96\n",
    "path_to_folder = '/Users/alexandre.bone/Softwares/deepshape/examples/eyes/data/test_NEW_'\n",
    "# path_to_folder = '/Users/alexandre.bone/Softwares/deepshape/examples/eyes/data/test'\n",
    "if not os.path.isdir(path_to_folder):\n",
    "    os.mkdir(path_to_folder)\n",
    "\n",
    "img_size = 64\n",
    "center = (img_size + 1.) / 2.0\n",
    "    \n",
    "average = np.zeros((img_size, img_size))\n",
    "for k in range(nb):\n",
    "\n",
    "    ellipse_a = np.random.uniform(20, 40)\n",
    "    ellipse_b = np.random.uniform(20, 40)\n",
    "\n",
    "    tumour_r = 15\n",
    "    tumour_x = 0\n",
    "    tumour_y = 0\n",
    "    while (tumour_x * img_size / 100. - center) ** 2 / (ellipse_a * img_size / 100.) ** 2 + (tumour_y * img_size / 100. - center) ** 2 / (ellipse_b * img_size / 100.) ** 2 > 1.:\n",
    "        tumour_x = np.random.uniform(tumour_r, 100 - tumour_r)\n",
    "        tumour_y = np.random.uniform(tumour_r, 100 - tumour_r)\n",
    "\n",
    "    sigma = 2.5\n",
    "\n",
    "    img = np.zeros((img_size, img_size))\n",
    "    coordinates_x, coordinates_y = np.meshgrid(np.arange(1, img_size + 1), np.arange(1, img_size + 1))\n",
    "    img[((coordinates_x - center) ** 2) / (ellipse_a * img_size / 100.) ** 2 + ((coordinates_y - center) ** 2) / (ellipse_b * img_size / 100.) ** 2 <= 1.] = 1.0\n",
    "    img[((coordinates_x - tumour_x * img_size / 100.) ** 2) / (tumour_r * img_size / 100.) ** 2 + ((coordinates_y - tumour_y * img_size / 100.) ** 2) / (tumour_r * img_size / 100.) ** 2 <= 1.] = 0.\n",
    "    img = gaussian_filter(img, sigma * img_size / 100.)\n",
    "\n",
    "    tol = 1e-10\n",
    "    img = (np.clip(img, tol, 1.0 - tol) * 255).astype('uint8')\n",
    "    pimg.fromarray(img).save(os.path.join(path_to_folder, 'eye__%d.png' % k))\n",
    "    \n",
    "    average += img\n",
    "average /= float(nb)\n",
    "\n",
    "figsize = 7\n",
    "f = plt.figure(figsize=(figsize, figsize))\n",
    "plt.imshow(average, cmap='gray')\n",
    "plt.show()"
   ]
  },
  {
   "cell_type": "code",
   "execution_count": null,
   "metadata": {
    "collapsed": true
   },
   "outputs": [],
   "source": []
  },
  {
   "cell_type": "code",
   "execution_count": null,
   "metadata": {
    "collapsed": true
   },
   "outputs": [],
   "source": []
  },
  {
   "cell_type": "code",
   "execution_count": null,
   "metadata": {
    "collapsed": true
   },
   "outputs": [],
   "source": []
  },
  {
   "cell_type": "code",
   "execution_count": null,
   "metadata": {
    "collapsed": true
   },
   "outputs": [],
   "source": []
  }
 ],
 "metadata": {
  "kernelspec": {
   "display_name": "Python 3",
   "language": "python",
   "name": "python3"
  },
  "language_info": {
   "codemirror_mode": {
    "name": "ipython",
    "version": 3
   },
   "file_extension": ".py",
   "mimetype": "text/x-python",
   "name": "python",
   "nbconvert_exporter": "python",
   "pygments_lexer": "ipython3",
   "version": "3.6.8"
  }
 },
 "nbformat": 4,
 "nbformat_minor": 2
}
